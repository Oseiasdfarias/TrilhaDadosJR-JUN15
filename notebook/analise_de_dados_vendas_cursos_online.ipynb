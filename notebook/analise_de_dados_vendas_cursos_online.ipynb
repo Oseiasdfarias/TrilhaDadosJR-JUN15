{
 "cells": [
  {
   "cell_type": "markdown",
   "metadata": {},
   "source": [
    "# Análise de Dados: Vendas de Cursos Online"
   ]
  },
  {
   "cell_type": "markdown",
   "metadata": {},
   "source": [
    "Requisitos Funcionais:\n",
    "\n",
    "> 1. **Carregamento de Dados:** Implementar a funcionalidade para carregar um conjunto de dados em formato CSV ou outro formato simples suportado pelo Python.\n",
    "> 2. **Exploração de Dados:** Exibir as primeiras linhas e informações básicas do conjunto de dados, como número de linhas, colunas e tipos de dados presentes.\n",
    "> 3. **Estatísticas Descritivas:** Calcular e exibir estatísticas descritivas básicas para colunas numéricas do conjunto de dados, como média, mediana, mínimo, máximo e desvio padrão.\n",
    "> 4. **Visualização de Dados:** Criar pelo menos dois tipos de gráficos utilizando bibliotecas como Matplotlib ou Seaborn, como gráfico de barras para contagem de categorias e gráfico de dispersão para relação entre variáveis."
   ]
  },
  {
   "cell_type": "markdown",
   "metadata": {},
   "source": [
    "### Dicionários da base de dados\n",
    "\n",
    "A base de dados consiste de um arquivo `CSV` contendo 5 colunas com dados ficticios de vendas de cursos online.\n",
    "\n",
    "Descrição das colunas:\n",
    "\n",
    "> + **ID:** Identificador único de cada curso vendido.\n",
    "> + **Nome do Curso:** Nome do curso vendido na plataforma.\n",
    "> + **Quantidade de Vendas:** Número de vendas realizadas para cada curso.\n",
    "> + **Preço Unitário:** Preço unitário do curso.\n",
    "> + **Data:** Data da venda do curso.\n",
    "\n"
   ]
  },
  {
   "cell_type": "markdown",
   "metadata": {},
   "source": [
    "**Carregando as bibliotecas necessárias**"
   ]
  },
  {
   "cell_type": "code",
   "execution_count": 19,
   "metadata": {},
   "outputs": [],
   "source": [
    "import numpy as np\n",
    "import pandas as pd\n",
    "\n",
    "import seaborn as sns\n",
    "import matplotlib.pyplot as plt\n",
    "sns.set_style(\"white\")\n",
    "%config InlineBackend.figure_format = \"retina\""
   ]
  },
  {
   "cell_type": "markdown",
   "metadata": {},
   "source": [
    "#### Carregando a base de dados"
   ]
  },
  {
   "cell_type": "code",
   "execution_count": 20,
   "metadata": {},
   "outputs": [],
   "source": [
    "df_vendas = pd.read_csv(\"../data/dados_vendas_cursos_online.csv\")"
   ]
  },
  {
   "cell_type": "markdown",
   "metadata": {},
   "source": [
    "Visualizando as primeiras linhas do DataFrame"
   ]
  },
  {
   "cell_type": "code",
   "execution_count": 21,
   "metadata": {},
   "outputs": [
    {
     "data": {
      "text/html": [
       "<div>\n",
       "<style scoped>\n",
       "    .dataframe tbody tr th:only-of-type {\n",
       "        vertical-align: middle;\n",
       "    }\n",
       "\n",
       "    .dataframe tbody tr th {\n",
       "        vertical-align: top;\n",
       "    }\n",
       "\n",
       "    .dataframe thead th {\n",
       "        text-align: right;\n",
       "    }\n",
       "</style>\n",
       "<table border=\"1\" class=\"dataframe\">\n",
       "  <thead>\n",
       "    <tr style=\"text-align: right;\">\n",
       "      <th></th>\n",
       "      <th>ID</th>\n",
       "      <th>Nome do Curso</th>\n",
       "      <th>Quantidade de Vendas</th>\n",
       "      <th>Preço Unitário</th>\n",
       "      <th>Data</th>\n",
       "    </tr>\n",
       "  </thead>\n",
       "  <tbody>\n",
       "    <tr>\n",
       "      <th>0</th>\n",
       "      <td>1</td>\n",
       "      <td>Introdução à Programação em Python</td>\n",
       "      <td>50</td>\n",
       "      <td>39.9</td>\n",
       "      <td>2023-01-01</td>\n",
       "    </tr>\n",
       "    <tr>\n",
       "      <th>1</th>\n",
       "      <td>2</td>\n",
       "      <td>Desenvolvimento Web com HTML e CSS</td>\n",
       "      <td>30</td>\n",
       "      <td>59.9</td>\n",
       "      <td>2023-01-02</td>\n",
       "    </tr>\n",
       "    <tr>\n",
       "      <th>2</th>\n",
       "      <td>3</td>\n",
       "      <td>JavaScript Avançado: Frameworks e Bibliotecas</td>\n",
       "      <td>20</td>\n",
       "      <td>79.9</td>\n",
       "      <td>2023-01-03</td>\n",
       "    </tr>\n",
       "    <tr>\n",
       "      <th>3</th>\n",
       "      <td>4</td>\n",
       "      <td>Introdução ao Machine Learning</td>\n",
       "      <td>15</td>\n",
       "      <td>99.9</td>\n",
       "      <td>2023-01-04</td>\n",
       "    </tr>\n",
       "    <tr>\n",
       "      <th>4</th>\n",
       "      <td>5</td>\n",
       "      <td>Desenvolvimento Mobile com React Native</td>\n",
       "      <td>25</td>\n",
       "      <td>69.9</td>\n",
       "      <td>2023-01-05</td>\n",
       "    </tr>\n",
       "  </tbody>\n",
       "</table>\n",
       "</div>"
      ],
      "text/plain": [
       "   ID                                  Nome do Curso  Quantidade de Vendas  \\\n",
       "0   1             Introdução à Programação em Python                    50   \n",
       "1   2             Desenvolvimento Web com HTML e CSS                    30   \n",
       "2   3  JavaScript Avançado: Frameworks e Bibliotecas                    20   \n",
       "3   4                 Introdução ao Machine Learning                    15   \n",
       "4   5        Desenvolvimento Mobile com React Native                    25   \n",
       "\n",
       "   Preço Unitário        Data  \n",
       "0            39.9  2023-01-01  \n",
       "1            59.9  2023-01-02  \n",
       "2            79.9  2023-01-03  \n",
       "3            99.9  2023-01-04  \n",
       "4            69.9  2023-01-05  "
      ]
     },
     "execution_count": 21,
     "metadata": {},
     "output_type": "execute_result"
    }
   ],
   "source": [
    "df_vendas.head()"
   ]
  },
  {
   "cell_type": "markdown",
   "metadata": {},
   "source": [
    "#### Obtendo o detalhamento da base de dados"
   ]
  },
  {
   "cell_type": "code",
   "execution_count": 22,
   "metadata": {},
   "outputs": [
    {
     "name": "stdout",
     "output_type": "stream",
     "text": [
      "<class 'pandas.core.frame.DataFrame'>\n",
      "RangeIndex: 25 entries, 0 to 24\n",
      "Data columns (total 5 columns):\n",
      " #   Column                Non-Null Count  Dtype  \n",
      "---  ------                --------------  -----  \n",
      " 0   ID                    25 non-null     int64  \n",
      " 1   Nome do Curso         25 non-null     object \n",
      " 2   Quantidade de Vendas  25 non-null     int64  \n",
      " 3   Preço Unitário        25 non-null     float64\n",
      " 4   Data                  25 non-null     object \n",
      "dtypes: float64(1), int64(2), object(2)\n",
      "memory usage: 1.1+ KB\n"
     ]
    }
   ],
   "source": [
    "df_vendas.info()"
   ]
  },
  {
   "cell_type": "markdown",
   "metadata": {},
   "source": [
    "Verificando se existe dados faltantes na base de dados."
   ]
  },
  {
   "cell_type": "code",
   "execution_count": 23,
   "metadata": {},
   "outputs": [
    {
     "data": {
      "text/plain": [
       "ID                      0\n",
       "Nome do Curso           0\n",
       "Quantidade de Vendas    0\n",
       "Preço Unitário          0\n",
       "Data                    0\n",
       "dtype: int64"
      ]
     },
     "execution_count": 23,
     "metadata": {},
     "output_type": "execute_result"
    }
   ],
   "source": [
    "df_vendas.isnull().sum()"
   ]
  },
  {
   "cell_type": "markdown",
   "metadata": {},
   "source": [
    "#### Obtendo resumo estatístico da base de dados para as columas `Quantitativas`"
   ]
  },
  {
   "cell_type": "code",
   "execution_count": 24,
   "metadata": {},
   "outputs": [
    {
     "data": {
      "text/html": [
       "<div>\n",
       "<style scoped>\n",
       "    .dataframe tbody tr th:only-of-type {\n",
       "        vertical-align: middle;\n",
       "    }\n",
       "\n",
       "    .dataframe tbody tr th {\n",
       "        vertical-align: top;\n",
       "    }\n",
       "\n",
       "    .dataframe thead th {\n",
       "        text-align: right;\n",
       "    }\n",
       "</style>\n",
       "<table border=\"1\" class=\"dataframe\">\n",
       "  <thead>\n",
       "    <tr style=\"text-align: right;\">\n",
       "      <th></th>\n",
       "      <th>ID</th>\n",
       "      <th>Quantidade de Vendas</th>\n",
       "      <th>Preço Unitário</th>\n",
       "    </tr>\n",
       "  </thead>\n",
       "  <tbody>\n",
       "    <tr>\n",
       "      <th>count</th>\n",
       "      <td>25.000000</td>\n",
       "      <td>25.000000</td>\n",
       "      <td>25.000000</td>\n",
       "    </tr>\n",
       "    <tr>\n",
       "      <th>mean</th>\n",
       "      <td>13.000000</td>\n",
       "      <td>17.960000</td>\n",
       "      <td>83.900000</td>\n",
       "    </tr>\n",
       "    <tr>\n",
       "      <th>std</th>\n",
       "      <td>7.359801</td>\n",
       "      <td>10.921996</td>\n",
       "      <td>21.984843</td>\n",
       "    </tr>\n",
       "    <tr>\n",
       "      <th>min</th>\n",
       "      <td>1.000000</td>\n",
       "      <td>5.000000</td>\n",
       "      <td>39.900000</td>\n",
       "    </tr>\n",
       "    <tr>\n",
       "      <th>25%</th>\n",
       "      <td>7.000000</td>\n",
       "      <td>10.000000</td>\n",
       "      <td>69.900000</td>\n",
       "    </tr>\n",
       "    <tr>\n",
       "      <th>50%</th>\n",
       "      <td>13.000000</td>\n",
       "      <td>15.000000</td>\n",
       "      <td>79.900000</td>\n",
       "    </tr>\n",
       "    <tr>\n",
       "      <th>75%</th>\n",
       "      <td>19.000000</td>\n",
       "      <td>20.000000</td>\n",
       "      <td>99.900000</td>\n",
       "    </tr>\n",
       "    <tr>\n",
       "      <th>max</th>\n",
       "      <td>25.000000</td>\n",
       "      <td>50.000000</td>\n",
       "      <td>119.900000</td>\n",
       "    </tr>\n",
       "  </tbody>\n",
       "</table>\n",
       "</div>"
      ],
      "text/plain": [
       "              ID  Quantidade de Vendas  Preço Unitário\n",
       "count  25.000000             25.000000       25.000000\n",
       "mean   13.000000             17.960000       83.900000\n",
       "std     7.359801             10.921996       21.984843\n",
       "min     1.000000              5.000000       39.900000\n",
       "25%     7.000000             10.000000       69.900000\n",
       "50%    13.000000             15.000000       79.900000\n",
       "75%    19.000000             20.000000       99.900000\n",
       "max    25.000000             50.000000      119.900000"
      ]
     },
     "execution_count": 24,
     "metadata": {},
     "output_type": "execute_result"
    }
   ],
   "source": [
    "df_vendas.describe()"
   ]
  },
  {
   "cell_type": "markdown",
   "metadata": {},
   "source": [
    "#### Renomeando nomes da base de dados"
   ]
  },
  {
   "cell_type": "code",
   "execution_count": 25,
   "metadata": {},
   "outputs": [
    {
     "data": {
      "text/html": [
       "<div>\n",
       "<style scoped>\n",
       "    .dataframe tbody tr th:only-of-type {\n",
       "        vertical-align: middle;\n",
       "    }\n",
       "\n",
       "    .dataframe tbody tr th {\n",
       "        vertical-align: top;\n",
       "    }\n",
       "\n",
       "    .dataframe thead th {\n",
       "        text-align: right;\n",
       "    }\n",
       "</style>\n",
       "<table border=\"1\" class=\"dataframe\">\n",
       "  <thead>\n",
       "    <tr style=\"text-align: right;\">\n",
       "      <th></th>\n",
       "      <th>ID</th>\n",
       "      <th>nome_curso</th>\n",
       "      <th>qt_de_vendas</th>\n",
       "      <th>preco_initario</th>\n",
       "      <th>data</th>\n",
       "    </tr>\n",
       "  </thead>\n",
       "  <tbody>\n",
       "    <tr>\n",
       "      <th>0</th>\n",
       "      <td>1</td>\n",
       "      <td>Introdução à Programação em Python</td>\n",
       "      <td>50</td>\n",
       "      <td>39.9</td>\n",
       "      <td>2023-01-01</td>\n",
       "    </tr>\n",
       "    <tr>\n",
       "      <th>1</th>\n",
       "      <td>2</td>\n",
       "      <td>Desenvolvimento Web com HTML e CSS</td>\n",
       "      <td>30</td>\n",
       "      <td>59.9</td>\n",
       "      <td>2023-01-02</td>\n",
       "    </tr>\n",
       "    <tr>\n",
       "      <th>2</th>\n",
       "      <td>3</td>\n",
       "      <td>JavaScript Avançado: Frameworks e Bibliotecas</td>\n",
       "      <td>20</td>\n",
       "      <td>79.9</td>\n",
       "      <td>2023-01-03</td>\n",
       "    </tr>\n",
       "    <tr>\n",
       "      <th>3</th>\n",
       "      <td>4</td>\n",
       "      <td>Introdução ao Machine Learning</td>\n",
       "      <td>15</td>\n",
       "      <td>99.9</td>\n",
       "      <td>2023-01-04</td>\n",
       "    </tr>\n",
       "    <tr>\n",
       "      <th>4</th>\n",
       "      <td>5</td>\n",
       "      <td>Desenvolvimento Mobile com React Native</td>\n",
       "      <td>25</td>\n",
       "      <td>69.9</td>\n",
       "      <td>2023-01-05</td>\n",
       "    </tr>\n",
       "  </tbody>\n",
       "</table>\n",
       "</div>"
      ],
      "text/plain": [
       "   ID                                     nome_curso  qt_de_vendas  \\\n",
       "0   1             Introdução à Programação em Python            50   \n",
       "1   2             Desenvolvimento Web com HTML e CSS            30   \n",
       "2   3  JavaScript Avançado: Frameworks e Bibliotecas            20   \n",
       "3   4                 Introdução ao Machine Learning            15   \n",
       "4   5        Desenvolvimento Mobile com React Native            25   \n",
       "\n",
       "   preco_initario        data  \n",
       "0            39.9  2023-01-01  \n",
       "1            59.9  2023-01-02  \n",
       "2            79.9  2023-01-03  \n",
       "3            99.9  2023-01-04  \n",
       "4            69.9  2023-01-05  "
      ]
     },
     "execution_count": 25,
     "metadata": {},
     "output_type": "execute_result"
    }
   ],
   "source": [
    "df_vendas = df_vendas.rename(columns={\n",
    "    \"Nome do Curso\": \"nome_curso\",\n",
    "    \"Quantidade de Vendas\": \"qt_de_vendas\",\n",
    "    \"Preço Unitário\": \"preco_initario\",\n",
    "    \"Data\": \"data\"})\n",
    "\n",
    "df_vendas.head()"
   ]
  },
  {
   "cell_type": "markdown",
   "metadata": {},
   "source": [
    "## Análise Exploratória (EDA) Univariada"
   ]
  },
  {
   "cell_type": "code",
   "execution_count": 26,
   "metadata": {},
   "outputs": [
    {
     "data": {
      "image/png": "[encoded data removed]",
      "text/plain": [
       "<Figure size 900x400 with 1 Axes>"
      ]
     },
     "metadata": {
      "image/png": {
       "height": 393,
       "width": 755
      }
     },
     "output_type": "display_data"
    }
   ],
   "source": [
    "plt.figure(figsize=(9, 4))\n",
    "cores = [\"#0A66C2\", \"#ECF7AE\", \"#1AA0DB\", \"#8BD5DB\"]\n",
    "sns.set_palette(sns.color_palette(cores))\n",
    "ax= sns.histplot(df_vendas[\"qt_de_vendas\"], bins=10, kde=True, color=cores[-2])\n",
    "sns.despine(right=True)\n",
    "\n",
    "plt.title(\"Distribuição da Variável Quantidade de Vendas\", fontsize=12)\n",
    "plt.xlabel(\"Quantidade de Vendas\")\n",
    "plt.ylabel(\"Quantidade\")\n",
    "plt.show()"
   ]
  },
  {
   "cell_type": "markdown",
   "metadata": {},
   "source": [
    "DADOS ESTATISTICOS ..."
   ]
  },
  {
   "cell_type": "code",
   "execution_count": 27,
   "metadata": {},
   "outputs": [
    {
     "data": {
      "text/plain": [
       "count    25.000000\n",
       "mean     17.960000\n",
       "std      10.921996\n",
       "min       5.000000\n",
       "25%      10.000000\n",
       "50%      15.000000\n",
       "75%      20.000000\n",
       "max      50.000000\n",
       "Name: qt_de_vendas, dtype: float64"
      ]
     },
     "execution_count": 27,
     "metadata": {},
     "output_type": "execute_result"
    }
   ],
   "source": [
    "df_vendas[\"qt_de_vendas\"].describe()"
   ]
  }
 ],
 "metadata": {
  "kernelspec": {
   "display_name": ".venv",
   "language": "python",
   "name": "python3"
  },
  "language_info": {
   "codemirror_mode": {
    "name": "ipython",
    "version": 3
   },
   "file_extension": ".py",
   "mimetype": "text/x-python",
   "name": "python",
   "nbconvert_exporter": "python",
   "pygments_lexer": "ipython3",
   "version": "3.10.12"
  }
 },
 "nbformat": 4,
 "nbformat_minor": 2
}
